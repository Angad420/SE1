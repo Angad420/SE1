{
  "nbformat": 4,
  "nbformat_minor": 0,
  "metadata": {
    "colab": {
      "provenance": [],
      "authorship_tag": "ABX9TyO9QbXbGnsdKicH+6cw6ivR",
      "include_colab_link": true
    },
    "kernelspec": {
      "name": "python3",
      "display_name": "Python 3"
    },
    "language_info": {
      "name": "python"
    }
  },
  "cells": [
    {
      "cell_type": "markdown",
      "metadata": {
        "id": "view-in-github",
        "colab_type": "text"
      },
      "source": [
        "<a href=\"https://colab.research.google.com/github/Angad420/SE1/blob/main/Untitled1.ipynb\" target=\"_parent\"><img src=\"https://colab.research.google.com/assets/colab-badge.svg\" alt=\"Open In Colab\"/></a>"
      ]
    },
    {
      "cell_type": "markdown",
      "source": [],
      "metadata": {
        "id": "w2ltg5Ma5BSE"
      }
    },
    {
      "cell_type": "markdown",
      "source": [
        "Implement weather modeling using the quadratic solution in stages:\n",
        "- User given input variable\n",
        "- Read from an input file\n",
        "- Single set of input\n",
        "- Multiple sets of input"
      ],
      "metadata": {
        "id": "GRF349KJ5C7K"
      }
    },
    {
      "cell_type": "code",
      "source": [
        "import math\n",
        "\n",
        "a = int(input(\"Enter the coefficient for 'a': \"))\n",
        "b = int(input(\"Enter the coefficient for 'b': \"))\n",
        "c = int(input(\"Enter the coefficient for 'c': \"))\n",
        "\n",
        "def Quadratic_Equation(a,b,c):\n",
        "  discriminant_formula = b*b - 4*a*c\n",
        "  if discriminant_formula>0:\n",
        "    r1 = (-b+math.sqrt(discriminant_formula)/(2*a))\n",
        "    r2 = (-b-math.sqrt(discriminant_formula)/(2*a))\n",
        "    return r1,r2\n",
        "\n",
        "  elif discriminant_formula == 0:\n",
        "    r = -b/(2,a)\n",
        "    return r, None\n",
        "  else:\n",
        "    return None,None"
      ],
      "metadata": {
        "id": "V1PpO4ZP5vrw",
        "colab": {
          "base_uri": "https://localhost:8080/"
        },
        "outputId": "d55a11bd-6f79-482b-e63d-336e4f3ad8ef"
      },
      "execution_count": null,
      "outputs": [
        {
          "name": "stdout",
          "output_type": "stream",
          "text": [
            "Enter the coefficient for 'a': 30\n",
            "Enter the coefficient for 'b': 50\n",
            "Enter the coefficient for 'c': 10\n"
          ]
        }
      ]
    },
    {
      "cell_type": "code",
      "source": [
        "roots = Quadratic_Equation(a,b,c)\n",
        "print(\"The roots we obtain are: \",roots)"
      ],
      "metadata": {
        "colab": {
          "base_uri": "https://localhost:8080/"
        },
        "id": "t70DtViK_ge5",
        "outputId": "087ee686-ef3d-4f98-a754-1916113d0886"
      },
      "execution_count": null,
      "outputs": [
        {
          "output_type": "stream",
          "name": "stdout",
          "text": [
            "The roots we obtain are:  (-49.39907478742267, -50.60092521257733)\n"
          ]
        }
      ]
    }
  ]
}